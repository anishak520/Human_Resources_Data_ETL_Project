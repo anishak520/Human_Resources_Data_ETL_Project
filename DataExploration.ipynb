{
 "cells": [
  {
   "cell_type": "markdown",
   "metadata": {},
   "source": [
    "# Data Exploration\n",
    "\n",
    "This notebook is designed to help navigate and understand the structure of various CSV files in the dataset. The primary objectives are to identify unique and repeated entries within columns, which helps determine suitable primary keys or, where necessary, composite keys for table design. Additionally, this exploration aids in selecting appropriate data types for each field.\n",
    "\n",
    "> **Note:** While this code automates much of the data extraction, displaying the head of each DataFrame allows users to visually inspect the data and make informed decisions—especially for fields like dates that require a closer, manual assessment."
   ]
  },
  {
   "cell_type": "code",
   "execution_count": 1,
   "metadata": {},
   "outputs": [],
   "source": [
    "# Dependencies\n",
    "import pandas as pd\n",
    "from pathlib import Path\n",
    "from pandas.api.types import is_string_dtype\n",
    "from pandas.api.types import is_numeric_dtype"
   ]
  },
  {
   "cell_type": "markdown",
   "metadata": {},
   "source": [
    "# Exploration Function\n",
    "\n",
    "The function below, `explore_data`, is designed to analyze the structure of each CSV file. It outputs the number of rows (length of the file), the number of columns, and assesses whether each column can serve as a primary key by comparing the number of unique values to the total number of rows. Additionally, the function determines if column values are numerical or strings. \n",
    "\n",
    "- If values are strings, the function calculates the maximum number of characters to recommend an appropriate `VARCHAR` length for database integration.\n",
    "- If values are numeric, an `INT` suggestion is made, which the user should verify based on the specific data requirements.\n",
    "\n",
    "The function ultimately returns a DataFrame containing the CSV data, enabling further analysis.\n"
   ]
  },
  {
   "cell_type": "code",
   "execution_count": 6,
   "metadata": {},
   "outputs": [],
   "source": [
    "def explore_data(filename):\n",
    "    # Print the file name being analyzed\n",
    "    print(f\"File: {filename}\")\n",
    "\n",
    "    # Load the CSV file into a DataFrame\n",
    "    csvfile = Path(f'Raw_Data/{filename}')\n",
    "    df = pd.read_csv(csvfile)\n",
    "\n",
    "    # Display the number of rows in the file\n",
    "    print(f\"Length of file: {len(df)} rows\")\n",
    "\n",
    "    # Display the number of columns in the file\n",
    "    num_col = len(df.columns)\n",
    "    print(f\"Number of columns: {num_col}\")\n",
    "\n",
    "    # Loop through each column for further analysis\n",
    "    for i in range(num_col):\n",
    "        # Initial output for each column includes its name and unique value count\n",
    "        output_string = f\"- Column {i}: '{df.columns[i]}' has {df[df.columns[i]].nunique()} unique values\"\n",
    "        \n",
    "        # Check if column can serve as a primary key\n",
    "        if df[df.columns[i]].nunique() == len(df):\n",
    "            output_string += ', and can be used as primary key'\n",
    "        \n",
    "        # Assess if the column data is numeric\n",
    "        if is_numeric_dtype(df[df.columns[i]]):\n",
    "            output_string += '. Values are numeric. Suggest: INT'\n",
    "        \n",
    "        # Assess if the column data is of string type\n",
    "        elif is_string_dtype(df[df.columns[i]]):\n",
    "            # Calculate maximum character length for VARCHAR recommendation\n",
    "            max_length = df[df.columns[i]].map(lambda x: len(str(x))).max()\n",
    "            if max_length == 1:\n",
    "                output_string += f\". Values are strings. Suggest: CHAR(1)\"\n",
    "            else:\n",
    "                output_string += f\". Values are strings. Suggest: VARCHAR({max_length})\"\n",
    "        \n",
    "        # Handle cases where data type cannot be determined\n",
    "        else:\n",
    "            output_string += '. Values are of an unknown type.'\n",
    "\n",
    "        # Print the column analysis\n",
    "        print(output_string)\n",
    "\n",
    "    # Display the first two rows of the DataFrame as an extract\n",
    "    print('Extract of data:')\n",
    "    display(df.head(2))\n",
    "\n",
    "    return df"
   ]
  },
  {
   "cell_type": "markdown",
   "metadata": {},
   "source": [
    "#### File 1: departments.csv file"
   ]
  },
  {
   "cell_type": "code",
   "execution_count": 8,
   "metadata": {},
   "outputs": [
    {
     "name": "stdout",
     "output_type": "stream",
     "text": [
      "File: departments.csv\n",
      "Length of file: 9 rows\n",
      "Number of columns: 2\n",
      "- Column 0: 'dept_no' has 9 unique values, and can be used as primary key. Values are strings. Suggest: VARCHAR(4)\n",
      "- Column 1: 'dept_name' has 9 unique values, and can be used as primary key. Values are strings. Suggest: VARCHAR(18)\n",
      "Extract of data:\n"
     ]
    },
    {
     "data": {
      "text/html": [
       "<div>\n",
       "<style scoped>\n",
       "    .dataframe tbody tr th:only-of-type {\n",
       "        vertical-align: middle;\n",
       "    }\n",
       "\n",
       "    .dataframe tbody tr th {\n",
       "        vertical-align: top;\n",
       "    }\n",
       "\n",
       "    .dataframe thead th {\n",
       "        text-align: right;\n",
       "    }\n",
       "</style>\n",
       "<table border=\"1\" class=\"dataframe\">\n",
       "  <thead>\n",
       "    <tr style=\"text-align: right;\">\n",
       "      <th></th>\n",
       "      <th>dept_no</th>\n",
       "      <th>dept_name</th>\n",
       "    </tr>\n",
       "  </thead>\n",
       "  <tbody>\n",
       "    <tr>\n",
       "      <th>0</th>\n",
       "      <td>d001</td>\n",
       "      <td>Marketing</td>\n",
       "    </tr>\n",
       "    <tr>\n",
       "      <th>1</th>\n",
       "      <td>d002</td>\n",
       "      <td>Finance</td>\n",
       "    </tr>\n",
       "  </tbody>\n",
       "</table>\n",
       "</div>"
      ],
      "text/plain": [
       "  dept_no  dept_name\n",
       "0    d001  Marketing\n",
       "1    d002    Finance"
      ]
     },
     "metadata": {},
     "output_type": "display_data"
    }
   ],
   "source": [
    "# Analyze the departments.csv file\n",
    "filename = 'departments.csv'\n",
    "df = explore_data(filename)"
   ]
  },
  {
   "cell_type": "markdown",
   "metadata": {},
   "source": [
    "#### File 2: dept_emp.csv file"
   ]
  },
  {
   "cell_type": "code",
   "execution_count": 7,
   "metadata": {},
   "outputs": [
    {
     "name": "stdout",
     "output_type": "stream",
     "text": [
      "File: dept_emp.csv\n",
      "Length of file: 331603 rows\n",
      "Number of columns: 2\n",
      "- Column 0: 'emp_no' has 300024 unique values. Values are numeric. Suggest: INT\n",
      "- Column 1: 'dept_no' has 9 unique values. Values are strings. Suggest: VARCHAR(4)\n",
      "Extract of data:\n"
     ]
    },
    {
     "data": {
      "text/html": [
       "<div>\n",
       "<style scoped>\n",
       "    .dataframe tbody tr th:only-of-type {\n",
       "        vertical-align: middle;\n",
       "    }\n",
       "\n",
       "    .dataframe tbody tr th {\n",
       "        vertical-align: top;\n",
       "    }\n",
       "\n",
       "    .dataframe thead th {\n",
       "        text-align: right;\n",
       "    }\n",
       "</style>\n",
       "<table border=\"1\" class=\"dataframe\">\n",
       "  <thead>\n",
       "    <tr style=\"text-align: right;\">\n",
       "      <th></th>\n",
       "      <th>emp_no</th>\n",
       "      <th>dept_no</th>\n",
       "    </tr>\n",
       "  </thead>\n",
       "  <tbody>\n",
       "    <tr>\n",
       "      <th>0</th>\n",
       "      <td>10001</td>\n",
       "      <td>d005</td>\n",
       "    </tr>\n",
       "    <tr>\n",
       "      <th>1</th>\n",
       "      <td>10002</td>\n",
       "      <td>d007</td>\n",
       "    </tr>\n",
       "  </tbody>\n",
       "</table>\n",
       "</div>"
      ],
      "text/plain": [
       "   emp_no dept_no\n",
       "0   10001    d005\n",
       "1   10002    d007"
      ]
     },
     "metadata": {},
     "output_type": "display_data"
    }
   ],
   "source": [
    "# Analyze the dept_emp.csv file\n",
    "filename = 'dept_emp.csv'\n",
    "df = explore_data(filename)"
   ]
  },
  {
   "cell_type": "markdown",
   "metadata": {},
   "source": [
    "#### File 3: dept_manager.csv file"
   ]
  },
  {
   "cell_type": "code",
   "execution_count": 9,
   "metadata": {},
   "outputs": [
    {
     "name": "stdout",
     "output_type": "stream",
     "text": [
      "File: dept_manager.csv\n",
      "Length of file: 24 rows\n",
      "Number of columns: 2\n",
      "- Column 0: 'dept_no' has 9 unique values. Values are strings. Suggest: VARCHAR(4)\n",
      "- Column 1: 'emp_no' has 24 unique values, and can be used as primary key. Values are numeric. Suggest: INT\n",
      "Extract of data:\n"
     ]
    },
    {
     "data": {
      "text/html": [
       "<div>\n",
       "<style scoped>\n",
       "    .dataframe tbody tr th:only-of-type {\n",
       "        vertical-align: middle;\n",
       "    }\n",
       "\n",
       "    .dataframe tbody tr th {\n",
       "        vertical-align: top;\n",
       "    }\n",
       "\n",
       "    .dataframe thead th {\n",
       "        text-align: right;\n",
       "    }\n",
       "</style>\n",
       "<table border=\"1\" class=\"dataframe\">\n",
       "  <thead>\n",
       "    <tr style=\"text-align: right;\">\n",
       "      <th></th>\n",
       "      <th>dept_no</th>\n",
       "      <th>emp_no</th>\n",
       "    </tr>\n",
       "  </thead>\n",
       "  <tbody>\n",
       "    <tr>\n",
       "      <th>0</th>\n",
       "      <td>d001</td>\n",
       "      <td>110022</td>\n",
       "    </tr>\n",
       "    <tr>\n",
       "      <th>1</th>\n",
       "      <td>d001</td>\n",
       "      <td>110039</td>\n",
       "    </tr>\n",
       "  </tbody>\n",
       "</table>\n",
       "</div>"
      ],
      "text/plain": [
       "  dept_no  emp_no\n",
       "0    d001  110022\n",
       "1    d001  110039"
      ]
     },
     "metadata": {},
     "output_type": "display_data"
    }
   ],
   "source": [
    "#Analyze the dept_manager.csv file\n",
    "filename = 'dept_manager.csv'\n",
    "df = explore_data(filename)"
   ]
  },
  {
   "cell_type": "markdown",
   "metadata": {},
   "source": [
    "#### File 4: employees.csv file"
   ]
  },
  {
   "cell_type": "code",
   "execution_count": 10,
   "metadata": {},
   "outputs": [
    {
     "name": "stdout",
     "output_type": "stream",
     "text": [
      "File: employees.csv\n",
      "Length of file: 300024 rows\n",
      "Number of columns: 7\n",
      "- Column 0: 'emp_no' has 300024 unique values, and can be used as primary key. Values are numeric. Suggest: INT\n",
      "- Column 1: 'emp_title_id' has 7 unique values. Values are strings. Suggest: VARCHAR(5)\n",
      "- Column 2: 'birth_date' has 4750 unique values. Values are strings. Suggest: VARCHAR(10)\n",
      "- Column 3: 'first_name' has 1276 unique values. Values are strings. Suggest: VARCHAR(14)\n",
      "- Column 4: 'last_name' has 1638 unique values. Values are strings. Suggest: VARCHAR(16)\n",
      "- Column 5: 'sex' has 2 unique values. Values are strings. Suggest: CHAR(1)\n",
      "- Column 6: 'hire_date' has 5434 unique values. Values are strings. Suggest: VARCHAR(10)\n",
      "Extract of data:\n"
     ]
    },
    {
     "data": {
      "text/html": [
       "<div>\n",
       "<style scoped>\n",
       "    .dataframe tbody tr th:only-of-type {\n",
       "        vertical-align: middle;\n",
       "    }\n",
       "\n",
       "    .dataframe tbody tr th {\n",
       "        vertical-align: top;\n",
       "    }\n",
       "\n",
       "    .dataframe thead th {\n",
       "        text-align: right;\n",
       "    }\n",
       "</style>\n",
       "<table border=\"1\" class=\"dataframe\">\n",
       "  <thead>\n",
       "    <tr style=\"text-align: right;\">\n",
       "      <th></th>\n",
       "      <th>emp_no</th>\n",
       "      <th>emp_title_id</th>\n",
       "      <th>birth_date</th>\n",
       "      <th>first_name</th>\n",
       "      <th>last_name</th>\n",
       "      <th>sex</th>\n",
       "      <th>hire_date</th>\n",
       "    </tr>\n",
       "  </thead>\n",
       "  <tbody>\n",
       "    <tr>\n",
       "      <th>0</th>\n",
       "      <td>473302</td>\n",
       "      <td>s0001</td>\n",
       "      <td>7/25/1953</td>\n",
       "      <td>Hideyuki</td>\n",
       "      <td>Zallocco</td>\n",
       "      <td>M</td>\n",
       "      <td>4/28/1990</td>\n",
       "    </tr>\n",
       "    <tr>\n",
       "      <th>1</th>\n",
       "      <td>475053</td>\n",
       "      <td>e0002</td>\n",
       "      <td>11/18/1954</td>\n",
       "      <td>Byong</td>\n",
       "      <td>Delgrande</td>\n",
       "      <td>F</td>\n",
       "      <td>9/7/1991</td>\n",
       "    </tr>\n",
       "  </tbody>\n",
       "</table>\n",
       "</div>"
      ],
      "text/plain": [
       "   emp_no emp_title_id  birth_date first_name  last_name sex  hire_date\n",
       "0  473302        s0001   7/25/1953   Hideyuki   Zallocco   M  4/28/1990\n",
       "1  475053        e0002  11/18/1954      Byong  Delgrande   F   9/7/1991"
      ]
     },
     "metadata": {},
     "output_type": "display_data"
    }
   ],
   "source": [
    "#Analyze the employees.csv file\n",
    "filename = 'employees.csv'\n",
    "df = explore_data(filename)"
   ]
  },
  {
   "cell_type": "markdown",
   "metadata": {},
   "source": [
    "#### File 5: salaries.csv file"
   ]
  },
  {
   "cell_type": "code",
   "execution_count": 11,
   "metadata": {},
   "outputs": [
    {
     "name": "stdout",
     "output_type": "stream",
     "text": [
      "File: salaries.csv\n",
      "Length of file: 300024 rows\n",
      "Number of columns: 2\n",
      "- Column 0: 'emp_no' has 300024 unique values, and can be used as primary key. Values are numeric. Suggest: INT\n",
      "- Column 1: 'salary' has 50355 unique values. Values are numeric. Suggest: INT\n",
      "Extract of data:\n"
     ]
    },
    {
     "data": {
      "text/html": [
       "<div>\n",
       "<style scoped>\n",
       "    .dataframe tbody tr th:only-of-type {\n",
       "        vertical-align: middle;\n",
       "    }\n",
       "\n",
       "    .dataframe tbody tr th {\n",
       "        vertical-align: top;\n",
       "    }\n",
       "\n",
       "    .dataframe thead th {\n",
       "        text-align: right;\n",
       "    }\n",
       "</style>\n",
       "<table border=\"1\" class=\"dataframe\">\n",
       "  <thead>\n",
       "    <tr style=\"text-align: right;\">\n",
       "      <th></th>\n",
       "      <th>emp_no</th>\n",
       "      <th>salary</th>\n",
       "    </tr>\n",
       "  </thead>\n",
       "  <tbody>\n",
       "    <tr>\n",
       "      <th>0</th>\n",
       "      <td>10001</td>\n",
       "      <td>60117</td>\n",
       "    </tr>\n",
       "    <tr>\n",
       "      <th>1</th>\n",
       "      <td>10002</td>\n",
       "      <td>65828</td>\n",
       "    </tr>\n",
       "  </tbody>\n",
       "</table>\n",
       "</div>"
      ],
      "text/plain": [
       "   emp_no  salary\n",
       "0   10001   60117\n",
       "1   10002   65828"
      ]
     },
     "metadata": {},
     "output_type": "display_data"
    }
   ],
   "source": [
    "#Analyze the salaries.csv file\n",
    "filename = 'salaries.csv'\n",
    "df = explore_data(filename)"
   ]
  },
  {
   "cell_type": "markdown",
   "metadata": {},
   "source": [
    "#### File 6: titles.csv file"
   ]
  },
  {
   "cell_type": "code",
   "execution_count": 12,
   "metadata": {},
   "outputs": [
    {
     "name": "stdout",
     "output_type": "stream",
     "text": [
      "File: titles.csv\n",
      "Length of file: 7 rows\n",
      "Number of columns: 2\n",
      "- Column 0: 'title_id' has 7 unique values, and can be used as primary key. Values are strings. Suggest: VARCHAR(5)\n",
      "- Column 1: 'title' has 7 unique values, and can be used as primary key. Values are strings. Suggest: VARCHAR(18)\n",
      "Extract of data:\n"
     ]
    },
    {
     "data": {
      "text/html": [
       "<div>\n",
       "<style scoped>\n",
       "    .dataframe tbody tr th:only-of-type {\n",
       "        vertical-align: middle;\n",
       "    }\n",
       "\n",
       "    .dataframe tbody tr th {\n",
       "        vertical-align: top;\n",
       "    }\n",
       "\n",
       "    .dataframe thead th {\n",
       "        text-align: right;\n",
       "    }\n",
       "</style>\n",
       "<table border=\"1\" class=\"dataframe\">\n",
       "  <thead>\n",
       "    <tr style=\"text-align: right;\">\n",
       "      <th></th>\n",
       "      <th>title_id</th>\n",
       "      <th>title</th>\n",
       "    </tr>\n",
       "  </thead>\n",
       "  <tbody>\n",
       "    <tr>\n",
       "      <th>0</th>\n",
       "      <td>s0001</td>\n",
       "      <td>Staff</td>\n",
       "    </tr>\n",
       "    <tr>\n",
       "      <th>1</th>\n",
       "      <td>s0002</td>\n",
       "      <td>Senior Staff</td>\n",
       "    </tr>\n",
       "  </tbody>\n",
       "</table>\n",
       "</div>"
      ],
      "text/plain": [
       "  title_id         title\n",
       "0    s0001         Staff\n",
       "1    s0002  Senior Staff"
      ]
     },
     "metadata": {},
     "output_type": "display_data"
    }
   ],
   "source": [
    "#Analyze the titles.csv file\n",
    "filename = 'titles.csv'\n",
    "df = explore_data(filename)"
   ]
  },
  {
   "cell_type": "markdown",
   "metadata": {},
   "source": [
    "### Conclusions from Data Exploration\n",
    "\n",
    "#### Table 1: departments\n",
    "- **Primary Key**: The `dept_no` column is unique and should serve as the **PRIMARY KEY** for this table.\n",
    "- **Foreign Keys**: No foreign keys are necessary for this table.\n",
    "- **Overall**: Each department has a unique identifier (`dept_no`), ensuring individual department records.\n",
    "\n",
    "#### Table 2: dept_emp\n",
    "- **Relationships**:\n",
    "  - `emp_no` contains repeating values, meaning an employee can be associated with multiple departments.\n",
    "  - `dept_no` also contains repeating values, indicating that a department can include multiple employees.\n",
    "- **Primary Key**: No single column qualifies as a **PRIMARY KEY** due to the repeating values in both `emp_no` and `dept_no`. A composite key (combining `emp_no` and `dept_no`) may be needed.\n",
    "- **Overall**: This table serves as a many-to-many relationship between employees and departments, highlighting employee memberships in departments without a unique row identifier.\n",
    "\n",
    "#### Table 3: dept_manager\n",
    "- **Relationships**:\n",
    "  - `dept_no` has repeating values, suggesting that a department may have multiple managers over time.\n",
    "  - `emp_no` contains no repeating values, indicating that each manager (identified by `emp_no`) is associated with only one department.\n",
    "- **Overall**: The `dept_manager` table maps managers to departments, with `emp_no` uniquely identifying each manager.\n",
    "\n",
    "#### Table 4: employees\n",
    "- **Primary Key**: `emp_no` is unique across all rows, making it a suitable **PRIMARY KEY** for the table.\n",
    "- **Data Notes**: \n",
    "  - Columns `birth_date` and `hire_date` are formatted in **MM/DD/YYYY** (US date format).\n",
    "  - All other columns contain repeating values, representing various employee attributes (e.g., titles, names).\n",
    "- **Overall**: This table captures core employee details with `emp_no` as the unique identifier, and includes additional attributes such as birth date and hire date.\n",
    "\n",
    "#### Table 5: salaries\n",
    "- **Primary Key**: `emp_no` has no repeating values, indicating that each employee is linked to a single salary record.\n",
    "- **Data Notes**:\n",
    "  - The `salary` column contains repeated values, meaning multiple employees may have the same salary.\n",
    "- **Overall**: The `salaries` table tracks individual employee salaries, with each `emp_no` uniquely identifying a single salary, even if the employee may work in multiple departments.\n",
    "\n",
    "#### Table 6: titles\n",
    "- **Primary Key**: `title_id` is unique and can serve as the **PRIMARY KEY**.\n",
    "- **Data Notes**: \n",
    "  - `title` values are also unique, ensuring that each job title is distinct.\n",
    "- **Overall**: This small reference table provides unique job titles, with `title_id` as a primary identifier, facilitating job title lookups or classifications.\n"
   ]
  }
 ],
 "metadata": {
  "kernelspec": {
   "display_name": "base",
   "language": "python",
   "name": "python3"
  },
  "language_info": {
   "codemirror_mode": {
    "name": "ipython",
    "version": 3
   },
   "file_extension": ".py",
   "mimetype": "text/x-python",
   "name": "python",
   "nbconvert_exporter": "python",
   "pygments_lexer": "ipython3",
   "version": "3.11.5"
  }
 },
 "nbformat": 4,
 "nbformat_minor": 2
}
